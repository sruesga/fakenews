{
 "cells": [
  {
   "cell_type": "markdown",
   "metadata": {},
   "source": [
    "# BERT Model\n",
    "\n",
    "Testing the pytorch BERT model for fake news classification."
   ]
  },
  {
   "cell_type": "markdown",
   "metadata": {},
   "source": [
    "## Library"
   ]
  },
  {
   "cell_type": "code",
   "execution_count": 1,
   "metadata": {},
   "outputs": [],
   "source": [
    "import pandas as pd\n",
    "import sklearn as sk\n",
    "from sklearn.model_selection import train_test_split\n",
    "import torch\n",
    "from pytorch_pretrained_bert import BertTokenizer, BertForSequenceClassification, BertAdam"
   ]
  },
  {
   "cell_type": "markdown",
   "metadata": {},
   "source": [
    "## Data Processing"
   ]
  },
  {
   "cell_type": "code",
   "execution_count": 2,
   "metadata": {},
   "outputs": [
    {
     "data": {
      "text/html": [
       "<div>\n",
       "<style scoped>\n",
       "    .dataframe tbody tr th:only-of-type {\n",
       "        vertical-align: middle;\n",
       "    }\n",
       "\n",
       "    .dataframe tbody tr th {\n",
       "        vertical-align: top;\n",
       "    }\n",
       "\n",
       "    .dataframe thead th {\n",
       "        text-align: right;\n",
       "    }\n",
       "</style>\n",
       "<table border=\"1\" class=\"dataframe\">\n",
       "  <thead>\n",
       "    <tr style=\"text-align: right;\">\n",
       "      <th></th>\n",
       "      <th>id</th>\n",
       "      <th>type</th>\n",
       "      <th>domain</th>\n",
       "      <th>title</th>\n",
       "    </tr>\n",
       "  </thead>\n",
       "  <tbody>\n",
       "    <tr>\n",
       "      <th>0</th>\n",
       "      <td>34.0</td>\n",
       "      <td>fake</td>\n",
       "      <td>beforeitsnews.com</td>\n",
       "      <td>Surprise: Socialist Hotbed Of Venezuela Has Lo...</td>\n",
       "    </tr>\n",
       "    <tr>\n",
       "      <th>1</th>\n",
       "      <td>35.0</td>\n",
       "      <td>fake</td>\n",
       "      <td>beforeitsnews.com</td>\n",
       "      <td>Water Cooler 1/25/18 Open Thread; Fake News ? ...</td>\n",
       "    </tr>\n",
       "    <tr>\n",
       "      <th>2</th>\n",
       "      <td>36.0</td>\n",
       "      <td>fake</td>\n",
       "      <td>beforeitsnews.com</td>\n",
       "      <td>Veteran Commentator Calls Out the Growing “Eth...</td>\n",
       "    </tr>\n",
       "    <tr>\n",
       "      <th>3</th>\n",
       "      <td>37.0</td>\n",
       "      <td>fake</td>\n",
       "      <td>beforeitsnews.com</td>\n",
       "      <td>Lost Words, Hidden Words, Otters, Banks and Books</td>\n",
       "    </tr>\n",
       "    <tr>\n",
       "      <th>4</th>\n",
       "      <td>38.0</td>\n",
       "      <td>fake</td>\n",
       "      <td>beforeitsnews.com</td>\n",
       "      <td>Red Alert: Bond Yields Are SCREAMING “Inflatio...</td>\n",
       "    </tr>\n",
       "  </tbody>\n",
       "</table>\n",
       "</div>"
      ],
      "text/plain": [
       "     id  type             domain  \\\n",
       "0  34.0  fake  beforeitsnews.com   \n",
       "1  35.0  fake  beforeitsnews.com   \n",
       "2  36.0  fake  beforeitsnews.com   \n",
       "3  37.0  fake  beforeitsnews.com   \n",
       "4  38.0  fake  beforeitsnews.com   \n",
       "\n",
       "                                               title  \n",
       "0  Surprise: Socialist Hotbed Of Venezuela Has Lo...  \n",
       "1  Water Cooler 1/25/18 Open Thread; Fake News ? ...  \n",
       "2  Veteran Commentator Calls Out the Growing “Eth...  \n",
       "3  Lost Words, Hidden Words, Otters, Banks and Books  \n",
       "4  Red Alert: Bond Yields Are SCREAMING “Inflatio...  "
      ]
     },
     "execution_count": 2,
     "metadata": {},
     "output_type": "execute_result"
    }
   ],
   "source": [
    "dataset = \"data/clean/fake_reliable_news_headlines.csv\"\n",
    "dataset_df = pd.read_csv(dataset).dropna()\n",
    "dataset_df.head()"
   ]
  },
  {
   "cell_type": "code",
   "execution_count": 3,
   "metadata": {},
   "outputs": [
    {
     "data": {
      "text/html": [
       "<div>\n",
       "<style scoped>\n",
       "    .dataframe tbody tr th:only-of-type {\n",
       "        vertical-align: middle;\n",
       "    }\n",
       "\n",
       "    .dataframe tbody tr th {\n",
       "        vertical-align: top;\n",
       "    }\n",
       "\n",
       "    .dataframe thead th {\n",
       "        text-align: right;\n",
       "    }\n",
       "</style>\n",
       "<table border=\"1\" class=\"dataframe\">\n",
       "  <thead>\n",
       "    <tr style=\"text-align: right;\">\n",
       "      <th></th>\n",
       "      <th>type</th>\n",
       "      <th>title</th>\n",
       "    </tr>\n",
       "  </thead>\n",
       "  <tbody>\n",
       "    <tr>\n",
       "      <th>148910</th>\n",
       "      <td>0</td>\n",
       "      <td>Organic Avocado Oil Market Demand, Overview, P...</td>\n",
       "    </tr>\n",
       "    <tr>\n",
       "      <th>696109</th>\n",
       "      <td>0</td>\n",
       "      <td>George Bush “The Illumination of a thousand po...</td>\n",
       "    </tr>\n",
       "    <tr>\n",
       "      <th>348143</th>\n",
       "      <td>0</td>\n",
       "      <td>Parohia gorjeană Cloşani, în haină de sărbătoare</td>\n",
       "    </tr>\n",
       "    <tr>\n",
       "      <th>2692062</th>\n",
       "      <td>1</td>\n",
       "      <td>If There Is a Recession in 2016, This Is How I...</td>\n",
       "    </tr>\n",
       "    <tr>\n",
       "      <th>299997</th>\n",
       "      <td>0</td>\n",
       "      <td>Irán y la Cultura del Miedo</td>\n",
       "    </tr>\n",
       "  </tbody>\n",
       "</table>\n",
       "</div>"
      ],
      "text/plain": [
       "         type                                              title\n",
       "148910      0  Organic Avocado Oil Market Demand, Overview, P...\n",
       "696109      0  George Bush “The Illumination of a thousand po...\n",
       "348143      0   Parohia gorjeană Cloşani, în haină de sărbătoare\n",
       "2692062     1  If There Is a Recession in 2016, This Is How I...\n",
       "299997      0                        Irán y la Cultura del Miedo"
      ]
     },
     "execution_count": 3,
     "metadata": {},
     "output_type": "execute_result"
    }
   ],
   "source": [
    "sample_size = 20000\n",
    "fake_df = dataset_df[dataset_df.type == 'fake']\n",
    "reliable_df = dataset_df[dataset_df.type == 'reliable']\n",
    "bert_df = sk.utils.shuffle(pd.concat([fake_df.sample(sample_size), reliable_df.sample(sample_size)]))\n",
    "bert_df = bert_df.loc[:, ['type','title']]\n",
    "bert_df['type'] = bert_df.type.map(dict(fake=0, reliable=1))\n",
    "bert_df.head()"
   ]
  },
  {
   "cell_type": "markdown",
   "metadata": {},
   "source": [
    "## Model Initialization"
   ]
  },
  {
   "cell_type": "code",
   "execution_count": 4,
   "metadata": {},
   "outputs": [],
   "source": [
    "bert_model_name = 'bert-base-uncased'\n",
    "tokenizer = BertTokenizer.from_pretrained(bert_model_name)\n",
    "model = BertForSequenceClassification.from_pretrained(bert_model_name, num_labels=2)"
   ]
  },
  {
   "cell_type": "markdown",
   "metadata": {},
   "source": [
    "## Training Functions"
   ]
  },
  {
   "cell_type": "code",
   "execution_count": 5,
   "metadata": {},
   "outputs": [],
   "source": [
    "# dataset batch processing functions\n",
    "\n",
    "pad = '[PAD]'\n",
    "cls = '[CLS]'\n",
    "\n",
    "def sample_batch(df, batchsize):\n",
    "    batch = df.sample(batchsize)\n",
    "    labels, titles = batch['type'], cls + batch['title']\n",
    "    tokenized_titles = [tokenizer.tokenize(x) for x in titles]\n",
    "    padded_titles = pad_batch(tokenized_titles)\n",
    "    indexed_titles = [tokenizer.convert_tokens_to_ids(x) for x in padded_titles]\n",
    "    return torch.tensor(labels.values), torch.tensor(indexed_titles)\n",
    "\n",
    "def pad_batch(batch_titles):\n",
    "    # assume batch_titles is already tokenized\n",
    "    maxlen = max([len(x) for x in batch_titles])\n",
    "    padded_batch = []\n",
    "    for x in batch_titles:\n",
    "        padded_batch.append(x + [pad]*(maxlen - len(x)))\n",
    "    return padded_batch"
   ]
  },
  {
   "cell_type": "code",
   "execution_count": 9,
   "metadata": {},
   "outputs": [],
   "source": [
    "def train(model, df, lr):\n",
    "    optimizer = BertAdam(model.parameters(), lr=lr)\n",
    "#     criterion = torch.nn.BCEWithLogitsLoss()\n",
    "    criterion = torch.nn.CrossEntropyLoss()\n",
    "\n",
    "    num_epochs = 1\n",
    "    num_iterations = 32\n",
    "    batchsize = 32\n",
    "    for i in range(num_epochs):\n",
    "        print(\"Epoch {}:\".format(i))\n",
    "        for j in range(0, num_iterations, batchsize):            \n",
    "            # get the inputs\n",
    "            labels, inputs = sample_batch(df, batchsize)\n",
    "\n",
    "            # zero the parameter gradients\n",
    "            optimizer.zero_grad()\n",
    "\n",
    "            # forward + backward + optimize\n",
    "            outputs = torch.squeeze(model(inputs))\n",
    "            loss = criterion(outputs, labels)\n",
    "            loss.backward()\n",
    "            optimizer.step()\n",
    "\n",
    "            # print statistics\n",
    "            if j % 100 == 0:    # print every 2000 mini-batches\n",
    "                print('\\t Iteration {} loss: {:3f}'.format(j, loss.item()))\n",
    "    print('Finished Training')\n",
    "    \n",
    "def test(model, df):\n",
    "    batchsize = 32\n",
    "    correct = 0\n",
    "    with roch.no_grad():\n",
    "        for _ in range(0, len(df), batchsize):\n",
    "            labels, inputs = sample_batch(df, batchsize)\n",
    "            outputs = torch.squeeze(model(inputs))\n",
    "            \n",
    "    print(correct/len(df))"
   ]
  },
  {
   "cell_type": "markdown",
   "metadata": {},
   "source": [
    "## Training"
   ]
  },
  {
   "cell_type": "code",
   "execution_count": 7,
   "metadata": {},
   "outputs": [],
   "source": [
    "model_file = \"models/bert.pt\"\n",
    "test_size = 0.2\n",
    "train_df, test_df = train_test_split(bert_df, test_size=test_size)"
   ]
  },
  {
   "cell_type": "code",
   "execution_count": 10,
   "metadata": {},
   "outputs": [
    {
     "name": "stderr",
     "output_type": "stream",
     "text": [
      "t_total value of -1 results in schedule not being applied\n"
     ]
    },
    {
     "name": "stdout",
     "output_type": "stream",
     "text": [
      "Epoch 0:\n",
      "\t Iteration 0 loss: 0.720274\n",
      "Finished Training\n"
     ]
    }
   ],
   "source": [
    "lr = 1e-3\n",
    "train(model, train_df, lr)\n",
    "torch.save(model, model_file)"
   ]
  },
  {
   "cell_type": "markdown",
   "metadata": {},
   "source": [
    "## Testing"
   ]
  },
  {
   "cell_type": "code",
   "execution_count": null,
   "metadata": {},
   "outputs": [],
   "source": [
    "test(mode, test_df)"
   ]
  },
  {
   "cell_type": "code",
   "execution_count": null,
   "metadata": {},
   "outputs": [],
   "source": []
  }
 ],
 "metadata": {
  "kernelspec": {
   "display_name": "Python 3",
   "language": "python",
   "name": "python3"
  },
  "language_info": {
   "codemirror_mode": {
    "name": "ipython",
    "version": 3
   },
   "file_extension": ".py",
   "mimetype": "text/x-python",
   "name": "python",
   "nbconvert_exporter": "python",
   "pygments_lexer": "ipython3",
   "version": "3.6.7"
  }
 },
 "nbformat": 4,
 "nbformat_minor": 2
}
